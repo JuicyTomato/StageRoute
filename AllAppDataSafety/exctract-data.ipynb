{
 "cells": [
  {
   "cell_type": "code",
   "execution_count": 11,
   "metadata": {},
   "outputs": [],
   "source": [
    "from webdriver_manager.chrome import ChromeDriverManager\n",
    "from selenium import webdriver\n",
    "from selenium.webdriver.chrome.service import Service\n",
    "from selenium.webdriver.common.by import By #per cercare id html\n",
    "from selenium.webdriver.common.keys import Keys #per usare tastiera\n",
    "from selenium.webdriver.support.ui import WebDriverWait\n",
    "from selenium.webdriver.support import expected_conditions as EC\n",
    "from selenium.common.exceptions import TimeoutException\n",
    "import time\n",
    "\n",
    "import csv\n",
    "import os\n",
    "from dotenv import load_dotenv"
   ]
  },
  {
   "cell_type": "code",
   "execution_count": 15,
   "metadata": {},
   "outputs": [],
   "source": [
    "#Aggiunge valori al CSV\n",
    "def addToCSV(listToAppend, appName):\n",
    "    filename = 'student-apk.csv'\n",
    "    rows = []\n",
    "    \n",
    "    with open(filename, mode='r', newline='', encoding='utf-8') as file:\n",
    "        reader = csv.DictReader(file)\n",
    "        fieldnames = reader.fieldnames  #Ottieni colonne\n",
    "        \n",
    "        for row in reader:\n",
    "            #Aggiorna riga dove trova nome\n",
    "            if row['pkg_name'] == appName:\n",
    "                row['data_safety'] = listToAppend\n",
    "            rows.append(row)\n",
    "\n",
    "    #Scrivi di nuovo il file CSV con il contenuto aggiornato\n",
    "    with open(filename, mode='w', newline='', encoding='utf-8') as file:\n",
    "        writer = csv.DictWriter(file, fieldnames=fieldnames)\n",
    "        writer.writeheader()\n",
    "        writer.writerows(rows)\n"
   ]
  },
  {
   "cell_type": "code",
   "execution_count": 16,
   "metadata": {},
   "outputs": [],
   "source": [
    "#get gli id per data safety \n",
    "def getDataSafety(driver, appName):\n",
    "    try:\n",
    "        #Aspetta fino a che non trova elemento\n",
    "        WebDriverWait(driver, 3).until(\n",
    "            EC.presence_of_element_located((By.CLASS_NAME, \"aFEzEb\"))\n",
    "        )\n",
    "        l = driver.find_elements(By.CLASS_NAME, \"aFEzEb\")\n",
    "\n",
    "        #Estrai testo con elementi trovati\n",
    "        listElements = [x.text for x in l]\n",
    "        \n",
    "        #Aggiunge\n",
    "        addToCSV(listElements, appName)\n",
    "\n",
    "    except TimeoutException:\n",
    "        #Se non trova aggiunge NOT USED\n",
    "        addToCSV(\"NOT USED\", appName)"
   ]
  },
  {
   "cell_type": "code",
   "execution_count": 17,
   "metadata": {},
   "outputs": [],
   "source": [
    "\n",
    "def lookForApp(appName):\n",
    "    load_dotenv()\n",
    "    \n",
    "    chromeDriverPath = os.getenv('webdriver_chrome_driver')\n",
    "    \n",
    "    #Connecting to play store\n",
    "    service = Service(executable_path=chromeDriverPath)\n",
    "    #service = Service(ChromeDriverManager().install())\n",
    "    driver = webdriver.Chrome(service=service)\n",
    "\n",
    "    options = webdriver.ChromeOptions()\n",
    "    options.add_argument(\"--no-sandbox\")\n",
    "    options.add_argument(\"--disable-dev-shm-usage\")\n",
    "    \n",
    "\n",
    "    driver.get(\"https://play.google.com/store/apps/datasafety?id=\" + appName)\n",
    "    getDataSafety(driver, appName)\n",
    "\n",
    "\n"
   ]
  },
  {
   "cell_type": "code",
   "execution_count": 14,
   "metadata": {},
   "outputs": [],
   "source": [
    "#Legge i dati nomi da pkg_name\n",
    "filename = 'student-apk.csv'\n",
    "\n",
    "\n",
    "\n",
    "\n",
    "with open(filename, mode='r') as file:\n",
    "    csv_reader = csv.DictReader(file) #Per mappare i nomi delle colonne\n",
    "    for row in csv_reader:\n",
    "        #Estrai pkg_name\n",
    "        pkg_name = row['pkg_name']\n",
    "        lookForApp(pkg_name)\n",
    "\n"
   ]
  },
  {
   "cell_type": "code",
   "execution_count": null,
   "metadata": {},
   "outputs": [],
   "source": []
  }
 ],
 "metadata": {
  "kernelspec": {
   "display_name": "Python 3",
   "language": "python",
   "name": "python3"
  },
  "language_info": {
   "codemirror_mode": {
    "name": "ipython",
    "version": 3
   },
   "file_extension": ".py",
   "mimetype": "text/x-python",
   "name": "python",
   "nbconvert_exporter": "python",
   "pygments_lexer": "ipython3",
   "version": "3.10.12"
  }
 },
 "nbformat": 4,
 "nbformat_minor": 2
}
