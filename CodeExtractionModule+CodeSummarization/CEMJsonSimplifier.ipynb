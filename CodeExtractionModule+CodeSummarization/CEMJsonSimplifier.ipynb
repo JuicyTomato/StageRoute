import os
import json

def simplify_json_file(input_file_path, output_file_path):
    with open(input_file_path, 'r', encoding='utf-8') as infile:
        data = json.load(infile)

    simplified_data = {
        "_id": data.get("_id", ""),
        "data": []
    }

    for entry in data["data"]:
        simplified_entry = {}
        for file_path, blocks in entry.items():
            simplified_blocks = {}
            for block_type, block_content in blocks.items():
                #solo campi non NaN
                if block_content:
                    #via I duplicati
                    if all(isinstance(item, list) for item in block_content):
                        unique_content = [list(x) for x in set(tuple(x) for x in block_content)]
                    else:
                        unique_content = list(set(block_content))

                    if unique_content:
                        simplified_blocks[block_type] = unique_content
            if simplified_blocks:
                simplified_entry[file_path] = simplified_blocks

        if simplified_entry:
            simplified_data["data"].append(simplified_entry)

    #save JSON
    with open(output_file_path, 'w', encoding='utf-8') as outfile:
        json.dump(simplified_data, outfile, indent=4)

    print(f"File semplificato salvato in {output_file_path}")

def simplify_json_in_directory(base_directory):
    for root, dirs, files in os.walk(base_directory):
        for file_name in files:
            if file_name.endswith(".json"):
                input_file_path = os.path.join(root, file_name)
                output_dir = os.path.join(root, "simplified")
                os.makedirs(output_dir, exist_ok=True)  # Crea la cartella di output se non esiste

                output_file_path = os.path.join(output_dir, file_name)
                simplify_json_file(input_file_path, output_file_path)

#path
base_directory = '/home/utente/Desktop/stageStuff/Cem/IIPhase/exported_data'  # Modifica con il percorso corretto
simplify_json_in_directory(base_directory)
