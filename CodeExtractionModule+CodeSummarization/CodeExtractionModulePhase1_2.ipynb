#PHASE 2

import os
import json
import zipfile
import re
from pathlib import Path

"""
"http_creation": r"(OkHttpClient|HttpClient|HttpURLConnection|Retrofit)\s*(.*?);",
    "http_request": r"(new\s+Request|new\s+Request.Builder|new\s+HttpRequest|new\s+HttpRequest.Builder)(.*?);",
    "http_config": r"(setHeader|addHeader|setBody|setRequestProperty|setConnectTimeout|setReadTimeout)(.*?);",
    "device_id_access": r"getDeviceId\(\)|Settings.Secure.ANDROID_ID",
    "location_access": r"getLastKnownLocation|requestLocationUpdates",
    "photo_access": r"getExternalStorageDirectory|getExternalFilesDir|getMediaContentUri",
    "file_access": r"openFile|createFile|getFileUri",
    "personal_info": r"getUserProfile|getContacts|getAccounts"
"""

#patterns
patterns = {
    "http_creation": r"(OkHttpClient|HttpClient|HttpURLConnection|Retrofit)\s*(.*?);",
    "http_request": r"(new\s+Request|new\s+Request.Builder|new\s+HttpRequest|new\s+HttpRequest.Builder)(.*?);",
    "http_config": r"(setHeader|addHeader|setBody|setRequestProperty|setConnectTimeout|setReadTimeout)(.*?);",
    "device_id_access": r"getDeviceId\(\)|Settings.Secure.ANDROID_ID|getSerial|getIMEI|getSubscriberId|getSimSerialNumber",
    "location_access": r"getLastKnownLocation|requestLocationUpdates|getLatitude|getLongitude|Geocoder|LocationManager",
    "photo_access": r"getExternalStorageDirectory|getExternalFilesDir|getMediaContentUri|getImage|getVideo|getAudio|getContentResolver",
    "file_access": r"openFile|createFile|getFileUri",
    "personal_info": r"getContact|ContactsContract|getUserProfile|getPhoneNumber|getEmail|getName|getAccount",
    "calendar_access": r"CalendarContract|Events|ContentResolver",
    "messages_access": r"SmsManager|Telephony.Sms|Telephony.Mms|getMessages|sendTextMessage|CallLog",
    "app_activity": r"UsageStatsManager|getRunningAppProcesses|getRunningTasks|getAppUsageStats",
    "encryption_methods": r"Cipher|encrypt|decrypt",
    "backup_methods": r"backup|restore|FirebaseBackup|RoomDatabase\.backupTo",
    "dlp_methods": r"dataLeakProtection|maskData|redactSensitive",
    "regulations": r"GDPR|HIPAA|PCI-DSS|CCPA|dataPrivacy|compliance",
    "access_management": r"checkPermission|getPermission|requestPermission"
}

base_dir = '/home/utente/Desktop/stageStuff/Cem/IPhase/CEMPhase1'

#elaboro cartelle
def process_apk_folders(base_dir):
    for folder in os.listdir(base_dir):
        folder_path = os.path.join(base_dir, folder)
        if os.path.isdir(folder_path):
            #mkdirs
            export_folder = folder_path + "_exported"
            os.makedirs(export_folder, exist_ok=True)
            
            for apk_file in os.listdir(folder_path):
                if apk_file.endswith(".zip"):
                    #JSON situa
                    json_name = apk_file.replace(".zip", ".json")
                    json_path = os.path.join(export_folder, json_name)
                    
                    #extract
                    data = extract_http_code_blocks(folder_path, apk_file)
                    
                    #salva in JSON
                    with open(json_path, "w") as json_file:
                        json.dump({"_id": json_name, "data": data}, json_file, indent=4)

# estrae blocchi di codixe
def extract_http_code_blocks(folder_path, apk_file):
    data = []
    
    with zipfile.ZipFile(os.path.join(folder_path, apk_file), 'r') as zip_ref:
        for file_name in zip_ref.namelist():
            #solo in .java
            if file_name.endswith(".java"):
                with zip_ref.open(file_name) as file:
                    file_content = file.read().decode("utf-8", errors="ignore")
                    
                    code_blocks = {
                        "http_creation": [],
                        "http_request": [],
                        "http_config": [],
                        "device_id_access": [],
                        "location_access": [],
                        "photo_access": [],
                        "file_access": [],
                        "personal_info": [],
                        "calendar_access": [],
                        "messages_access": [],
                        "app_activity": [],
                        "encryption_methods": [],
                        "backup_methods": [],
                        "dlp_methods": [],
                        "regulations": [],
                        "access_management": []
                    }
                    
                    #per ogni pattern
                    for block, pattern in patterns.items():
                        matches = re.findall(pattern, file_content, re.DOTALL)
                        if matches:
                            code_blocks[block].extend(matches)
                    
                    #aggiunge blocchi rilevanti
                    if any(code_blocks.values()):
                        data.append({file_name: code_blocks})
    
    return data

process_apk1()
#sbam, lez go
process_apk_folders(base_dir)
