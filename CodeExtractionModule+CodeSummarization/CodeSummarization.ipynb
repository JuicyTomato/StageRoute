import json
import os
import time
from groq import RateLimitError
from langchain_groq import ChatGroq
from langchain.chains.summarize import load_summarize_chain
from langchain.prompts import PromptTemplate
from langchain.text_splitter import CharacterTextSplitter

from dotenv import load_dotenv
load_dotenv()
chatgroq_api_key = os.getenv("CHATGROQ_API_KEY")

# ChatGroq
llm = ChatGroq(api_key=chatgroq_api_key, temperature=0, model="llama3-8b-8192") #mixtral-8x7b-32768	llava-v1.5-7b-4096-preview

# Carica il file JSON
def load_json_file(json_file_path):
    with open(json_file_path, 'r', encoding='utf-8') as file:
        data = json.load(file)
    return data

# Estrai e suddividi i blocchi di codice
def process_code_blocks(data):
    combined_text = ""
    print("Processing the file: " + data['_id'])  # Nome dell'APK
    for entry in data["data"]:
        for file_path, blocks in entry.items():
            for block_type, block_content in blocks.items():
                combined_text += f"\n{block_type}:\n"
                for line in block_content:
                    combined_text += f"{line}\n"

    # Suddividi il testo in segmenti per adattarlo alla finestra di contesto del modello
    text_splitter = CharacterTextSplitter(separator="\n", chunk_size=1000, chunk_overlap=50)
    documents = text_splitter.create_documents([combined_text])

    return documents

# Prompt iniziale
prompt_template = """
In this JSON code {text}, which type of dangerous data is there from the following list of sensitive data types?

Device/Mobile/PIM Data
App Information
Geolocation Information
Connection Information
Audio/Video Data
Remote Connection
Memory Operations
Arbitrary Code Execution
Sensor Hardware Access
"""
prompt = PromptTemplate.from_template(prompt_template)

#Refine
refine_template = """
This is a summary refinement task. Don't explain anything but follow the request below
Initial summary: {existing_answer}
List only the permissions the app uses in JSON format as shown below:
{{"app_name":"{app_name}","permissions":"[sensitive_data_types]"}}
Don't say anything else and don't add '''
"""

refine_prompt = PromptTemplate.from_template(refine_template)

# Catena di riassunto
def summarize_json_content(json_file_path):
    data = load_json_file(json_file_path)
    documents = process_code_blocks(data)

    # Carica la catena di sintesi
    chain = load_summarize_chain(
        llm=llm,
        chain_type="refine",
        question_prompt=prompt,
        refine_prompt=refine_prompt,
        return_intermediate_steps=True,
        input_key="input_documents",
        output_key="output_text",
    )
    
    # Esegui la catena di sintesi con i parametri richiesti
    app_name = data["_id"]
    result = chain({"input_documents": documents, "app_name": app_name}, return_only_outputs=True)

    print("JSON Summary:")
    print(result['output_text'])
    return result['output_text'], app_name

#percorso cartella da ciclare (one at the time)
folder_path = '/home/utente/Desktop/stageStuff/Cem/IIPhase/exported_data/volley_exported/PRIMI/simplified'


#loop on folder
for file_name in os.listdir(folder_path):
    #check if file
    file_path = os.path.join(folder_path, file_name)
    if os.path.isfile(file_path):
        try:
            #do the thing
            json_file_path = folder_path + "/" + file_name
            print("Processing:" + json_file_path)
            outputTOT = summarize_json_content(json_file_path)
            #save on JSON
            output, name = outputTOT
            path_to_save="/home/utente/Desktop/stageStuff/Cem/IIPhase/exported_data/ZDONE/DONEVolley/" + name
            with open(path_to_save, 'w') as json_file:
                evalOutput = output.replace("\\", "") #json.loads(output.replace("\\", ""))
                json.dump(evalOutput, json_file, indent=4)
                print(output)
        except RateLimitError as e:
            print(f"Rate limit exceeded: {e}. Waiting for 3 minutes before retrying...")
            time.sleep(180)  # Aspetta per 3 minuti
            continue
