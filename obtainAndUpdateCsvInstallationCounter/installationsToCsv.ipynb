{
 "cells": [
  {
   "cell_type": "code",
   "execution_count": 84,
   "metadata": {},
   "outputs": [],
   "source": [
    "import os\n",
    "import time\n",
    "import pandas as pd\n",
    "from selenium import webdriver\n",
    "from selenium.webdriver.common.by import By\n",
    "from selenium.webdriver.chrome.service import Service\n",
    "from selenium.webdriver.chrome.options import Options\n",
    "from selenium.webdriver.common.keys import Keys\n",
    "from selenium.webdriver.support.ui import WebDriverWait\n",
    "from selenium.webdriver.support import expected_conditions as EC\n",
    "\n",
    "\n",
    "\n",
    "import csv\n",
    "import os\n",
    "from dotenv import load_dotenv"
   ]
  },
  {
   "cell_type": "code",
   "execution_count": 85,
   "metadata": {},
   "outputs": [],
   "source": [
    "def update_csv_file(driver, installation_count, apk_link, file_name):\n",
    "    #pkg_name perchè mi assicuro aggiunga nella riga esatta + \"/download/apk\"\n",
    "    #installation_count è la variabile da aggiungere\n",
    "    \n",
    "    #Percorso del file CSV\n",
    "    csv_file_path = \"/home/pepe/visualStudioCodeProjects/tirocinio/CSV_category/\" + file_name\n",
    "\n",
    "\n",
    "    # Leggi il file CSV\n",
    "    df = pd.read_csv(csv_file_path)\n",
    "\n",
    "    # Verifica se la colonna \"installations\" esiste, altrimenti creala\n",
    "    if \"installations\" not in df.columns:\n",
    "        df[\"installations\"] = None\n",
    "\n",
    "    # Trova la riga dove apk_link corrisponde al valore cercato e aggiorna la colonna \"installations\"\n",
    "    df.loc[df[\"apk_link\"] == apk_link, \"installations\"] = installation_count\n",
    "\n",
    "    # Salva le modifiche nel file CSV\n",
    "    df.to_csv(csv_file_path, index=False)\n",
    "\n",
    "    print(f\"Valore di {installation_count} aggiornato per pkg_name {apk_link} nella colonna installations.\")\n",
    "    driver.quit()\n"
   ]
  },
  {
   "cell_type": "code",
   "execution_count": 86,
   "metadata": {},
   "outputs": [],
   "source": [
    "#Funzione per cercare l'app su APKCombo e ottenere il numero di download\n",
    "def get_download_count(driver, pkg_name, file_name):\n",
    "    try:\n",
    "        # Accedi a apkcombo.com\n",
    "        pkg_name_no_add = pkg_name.replace(\"/download/apk\", \"\")\n",
    "        print(pkg_name_no_add)\n",
    "        driver.get(pkg_name_no_add)\n",
    "\n",
    "         #wait until non trova ID\n",
    "        WebDriverWait(driver,5).until(\n",
    "            EC.presence_of_element_located((By.XPATH, '//button[@aria-label=\"Consent\"]'))\n",
    "        ) #aspetta 5 secondi prima di cercare searchInput\n",
    "        l = driver.find_element(By.XPATH, '//button[@aria-label=\"Consent\"]')\n",
    "        c = l.click()\n",
    "\n",
    "        installation_count = driver.find_element(By.XPATH, '//div[contains(@class, \"item\") and .//div[text()=\"Installs\"]]//div[@class=\"value\"]').text.replace(\"+\", \"\")\n",
    "        print(installation_count + \": number of installations\")\n",
    "        update_csv_file(driver, installation_count, pkg_name, file_name)\n",
    "\n",
    "    except Exception as e:\n",
    "        print(f\"Errore durante la ricerca di {pkg_name}: {e}\")\n",
    "        return None"
   ]
  },
  {
   "cell_type": "code",
   "execution_count": 87,
   "metadata": {},
   "outputs": [],
   "source": [
    "\n",
    "def lookForApp(appName, file_name):\n",
    "    # Avvio del browser\n",
    "    load_dotenv()\n",
    "\n",
    "    chromeDriverPath = os.getenv('webdriver_chrome_driver')\n",
    "\n",
    "    #Connecting to play store\n",
    "    service = Service(executable_path=chromeDriverPath)\n",
    "    #service = Service(ChromeDriverManager().install())\n",
    "    driver = webdriver.Chrome(service=service)\n",
    "\n",
    "    options = webdriver.ChromeOptions()\n",
    "    options.add_argument(\"--no-sandbox\")\n",
    "    options.add_argument(\"--disable-dev-shm-usage\")\n",
    "    options.add_argument(\"--disable-third-party-cookies\")\n",
    "\n",
    "    get_download_count(driver, appName, file_name)\n",
    "    #driver.get(\"https://google.com\")"
   ]
  },
  {
   "cell_type": "code",
   "execution_count": 88,
   "metadata": {},
   "outputs": [],
   "source": [
    "# Funzione per processare ogni file CSV e ottenere le stringhe sotto la colonna \"pkg_name\"\n",
    "def process_csv_files(folder_path):\n",
    "    # Itera su tutti i file CSV nella cartella\n",
    "    for file_name in os.listdir(folder_path):\n",
    "        if file_name.endswith(\".csv\"):  # Controlla che sia un file CSV\n",
    "            print(\"Ora nel csv:\" + file_name)\n",
    "            file_path = os.path.join(folder_path, file_name)\n",
    "            \n",
    "            # Leggi il file CSV\n",
    "            df = pd.read_csv(file_path)\n",
    "            \n",
    "            # Controlla se la colonna \"pkg_name\" esiste\n",
    "            if \"apk_link\" in df.columns:\n",
    "                print(f\"Processing file: {file_name}\")\n",
    "                \n",
    "                # Itera su ogni valore della colonna \"pkg_name\"\n",
    "                for index, pkg_name in enumerate(df[\"apk_link\"]):\n",
    "                    lookForApp(pkg_name, file_name)\n",
    "            else:\n",
    "                print(f\"Warning: 'pkg_name' column not found in {file_name}\")"
   ]
  },
  {
   "cell_type": "code",
   "execution_count": 89,
   "metadata": {},
   "outputs": [
    {
     "name": "stdout",
     "output_type": "stream",
     "text": [
      "Ora nel csv:personalization_apk_popular.csv\n",
      "Processing file: personalization_apk_popular.csv\n",
      "https://apkcombo.com/icedrive-secure-cloud-storage/com.icedrive.app\n",
      "100,000: number of installations\n",
      "Valore di 100,000 aggiornato per pkg_name https://apkcombo.com/icedrive-secure-cloud-storage/com.icedrive.app/download/apk nella colonna installations.\n"
     ]
    },
    {
     "name": "stderr",
     "output_type": "stream",
     "text": [
      "/tmp/ipykernel_53298/1193380557.py:17: FutureWarning: Setting an item of incompatible dtype is deprecated and will raise an error in a future version of pandas. Value '100,000' has dtype incompatible with float64, please explicitly cast to a compatible dtype first.\n",
      "  df.loc[df[\"apk_link\"] == apk_link, \"installations\"] = installation_count\n"
     ]
    },
    {
     "name": "stdout",
     "output_type": "stream",
     "text": [
      "https://apkcombo.com/terabox/com.dubox.drive\n",
      "100,000,000: number of installations\n",
      "Valore di 100,000,000 aggiornato per pkg_name https://apkcombo.com/terabox/com.dubox.drive/download/apk nella colonna installations.\n",
      "https://apkcombo.com/cloud-storage/hr.telekomcloud.storage\n",
      "10,000: number of installations\n",
      "Valore di 10,000 aggiornato per pkg_name https://apkcombo.com/cloud-storage/hr.telekomcloud.storage/download/apk nella colonna installations.\n",
      "https://apkcombo.com/degoo-20-gb-cloud-storage/com.degoo.android\n",
      "10,000,000: number of installations\n",
      "Valore di 10,000,000 aggiornato per pkg_name https://apkcombo.com/degoo-20-gb-cloud-storage/com.degoo.android/download/apk nella colonna installations.\n",
      "https://apkcombo.com/yandex-disk-file-cloud-storage/ru.yandex.disk\n"
     ]
    },
    {
     "ename": "KeyboardInterrupt",
     "evalue": "",
     "output_type": "error",
     "traceback": [
      "\u001b[0;31m---------------------------------------------------------------------------\u001b[0m",
      "\u001b[0;31mKeyboardInterrupt\u001b[0m                         Traceback (most recent call last)",
      "Cell \u001b[0;32mIn[89], line 6\u001b[0m\n\u001b[1;32m      2\u001b[0m csv_folder_path \u001b[38;5;241m=\u001b[39m \u001b[38;5;124m\"\u001b[39m\u001b[38;5;124m/home/pepe/visualStudioCodeProjects/tirocinio/CSV_category\u001b[39m\u001b[38;5;124m\"\u001b[39m\n\u001b[1;32m      5\u001b[0m \u001b[38;5;66;03m# Esegui il processo sui file CSV nella cartella specificata\u001b[39;00m\n\u001b[0;32m----> 6\u001b[0m \u001b[43mprocess_csv_files\u001b[49m\u001b[43m(\u001b[49m\u001b[43mcsv_folder_path\u001b[49m\u001b[43m)\u001b[49m\n",
      "Cell \u001b[0;32mIn[88], line 18\u001b[0m, in \u001b[0;36mprocess_csv_files\u001b[0;34m(folder_path)\u001b[0m\n\u001b[1;32m     16\u001b[0m     \u001b[38;5;66;03m# Itera su ogni valore della colonna \"pkg_name\"\u001b[39;00m\n\u001b[1;32m     17\u001b[0m     \u001b[38;5;28;01mfor\u001b[39;00m index, pkg_name \u001b[38;5;129;01min\u001b[39;00m \u001b[38;5;28menumerate\u001b[39m(df[\u001b[38;5;124m\"\u001b[39m\u001b[38;5;124mapk_link\u001b[39m\u001b[38;5;124m\"\u001b[39m]):\n\u001b[0;32m---> 18\u001b[0m         \u001b[43mlookForApp\u001b[49m\u001b[43m(\u001b[49m\u001b[43mpkg_name\u001b[49m\u001b[43m,\u001b[49m\u001b[43m \u001b[49m\u001b[43mfile_name\u001b[49m\u001b[43m)\u001b[49m\n\u001b[1;32m     19\u001b[0m \u001b[38;5;28;01melse\u001b[39;00m:\n\u001b[1;32m     20\u001b[0m     \u001b[38;5;28mprint\u001b[39m(\u001b[38;5;124mf\u001b[39m\u001b[38;5;124m\"\u001b[39m\u001b[38;5;124mWarning: \u001b[39m\u001b[38;5;124m'\u001b[39m\u001b[38;5;124mpkg_name\u001b[39m\u001b[38;5;124m'\u001b[39m\u001b[38;5;124m column not found in \u001b[39m\u001b[38;5;132;01m{\u001b[39;00mfile_name\u001b[38;5;132;01m}\u001b[39;00m\u001b[38;5;124m\"\u001b[39m)\n",
      "Cell \u001b[0;32mIn[87], line 17\u001b[0m, in \u001b[0;36mlookForApp\u001b[0;34m(appName, file_name)\u001b[0m\n\u001b[1;32m     14\u001b[0m options\u001b[38;5;241m.\u001b[39madd_argument(\u001b[38;5;124m\"\u001b[39m\u001b[38;5;124m--disable-dev-shm-usage\u001b[39m\u001b[38;5;124m\"\u001b[39m)\n\u001b[1;32m     15\u001b[0m options\u001b[38;5;241m.\u001b[39madd_argument(\u001b[38;5;124m\"\u001b[39m\u001b[38;5;124m--disable-third-party-cookies\u001b[39m\u001b[38;5;124m\"\u001b[39m)\n\u001b[0;32m---> 17\u001b[0m \u001b[43mget_download_count\u001b[49m\u001b[43m(\u001b[49m\u001b[43mdriver\u001b[49m\u001b[43m,\u001b[49m\u001b[43m \u001b[49m\u001b[43mappName\u001b[49m\u001b[43m,\u001b[49m\u001b[43m \u001b[49m\u001b[43mfile_name\u001b[49m\u001b[43m)\u001b[49m\n",
      "Cell \u001b[0;32mIn[86], line 10\u001b[0m, in \u001b[0;36mget_download_count\u001b[0;34m(driver, pkg_name, file_name)\u001b[0m\n\u001b[1;32m      7\u001b[0m driver\u001b[38;5;241m.\u001b[39mget(pkg_name_no_add)\n\u001b[1;32m      9\u001b[0m  \u001b[38;5;66;03m#wait until non trova ID\u001b[39;00m\n\u001b[0;32m---> 10\u001b[0m \u001b[43mWebDriverWait\u001b[49m\u001b[43m(\u001b[49m\u001b[43mdriver\u001b[49m\u001b[43m,\u001b[49m\u001b[38;5;241;43m5\u001b[39;49m\u001b[43m)\u001b[49m\u001b[38;5;241;43m.\u001b[39;49m\u001b[43muntil\u001b[49m\u001b[43m(\u001b[49m\n\u001b[1;32m     11\u001b[0m \u001b[43m    \u001b[49m\u001b[43mEC\u001b[49m\u001b[38;5;241;43m.\u001b[39;49m\u001b[43mpresence_of_element_located\u001b[49m\u001b[43m(\u001b[49m\u001b[43m(\u001b[49m\u001b[43mBy\u001b[49m\u001b[38;5;241;43m.\u001b[39;49m\u001b[43mXPATH\u001b[49m\u001b[43m,\u001b[49m\u001b[43m \u001b[49m\u001b[38;5;124;43m'\u001b[39;49m\u001b[38;5;124;43m//button[@aria-label=\u001b[39;49m\u001b[38;5;124;43m\"\u001b[39;49m\u001b[38;5;124;43mConsent\u001b[39;49m\u001b[38;5;124;43m\"\u001b[39;49m\u001b[38;5;124;43m]\u001b[39;49m\u001b[38;5;124;43m'\u001b[39;49m\u001b[43m)\u001b[49m\u001b[43m)\u001b[49m\n\u001b[1;32m     12\u001b[0m \u001b[43m\u001b[49m\u001b[43m)\u001b[49m \u001b[38;5;66;03m#aspetta 5 secondi prima di cercare searchInput\u001b[39;00m\n\u001b[1;32m     13\u001b[0m l \u001b[38;5;241m=\u001b[39m driver\u001b[38;5;241m.\u001b[39mfind_element(By\u001b[38;5;241m.\u001b[39mXPATH, \u001b[38;5;124m'\u001b[39m\u001b[38;5;124m//button[@aria-label=\u001b[39m\u001b[38;5;124m\"\u001b[39m\u001b[38;5;124mConsent\u001b[39m\u001b[38;5;124m\"\u001b[39m\u001b[38;5;124m]\u001b[39m\u001b[38;5;124m'\u001b[39m)\n\u001b[1;32m     14\u001b[0m c \u001b[38;5;241m=\u001b[39m l\u001b[38;5;241m.\u001b[39mclick()\n",
      "File \u001b[0;32m~/anaconda3/envs/codeRag/lib/python3.10/site-packages/selenium/webdriver/support/wait.py:102\u001b[0m, in \u001b[0;36mWebDriverWait.until\u001b[0;34m(self, method, message)\u001b[0m\n\u001b[1;32m    100\u001b[0m     screen \u001b[38;5;241m=\u001b[39m \u001b[38;5;28mgetattr\u001b[39m(exc, \u001b[38;5;124m\"\u001b[39m\u001b[38;5;124mscreen\u001b[39m\u001b[38;5;124m\"\u001b[39m, \u001b[38;5;28;01mNone\u001b[39;00m)\n\u001b[1;32m    101\u001b[0m     stacktrace \u001b[38;5;241m=\u001b[39m \u001b[38;5;28mgetattr\u001b[39m(exc, \u001b[38;5;124m\"\u001b[39m\u001b[38;5;124mstacktrace\u001b[39m\u001b[38;5;124m\"\u001b[39m, \u001b[38;5;28;01mNone\u001b[39;00m)\n\u001b[0;32m--> 102\u001b[0m \u001b[43mtime\u001b[49m\u001b[38;5;241;43m.\u001b[39;49m\u001b[43msleep\u001b[49m\u001b[43m(\u001b[49m\u001b[38;5;28;43mself\u001b[39;49m\u001b[38;5;241;43m.\u001b[39;49m\u001b[43m_poll\u001b[49m\u001b[43m)\u001b[49m\n\u001b[1;32m    103\u001b[0m \u001b[38;5;28;01mif\u001b[39;00m time\u001b[38;5;241m.\u001b[39mmonotonic() \u001b[38;5;241m>\u001b[39m end_time:\n\u001b[1;32m    104\u001b[0m     \u001b[38;5;28;01mbreak\u001b[39;00m\n",
      "\u001b[0;31mKeyboardInterrupt\u001b[0m: "
     ]
    }
   ],
   "source": [
    "# Percorso dei file CSV\n",
    "csv_folder_path = \"/home/pepe/visualStudioCodeProjects/tirocinio/CSV_category\"\n",
    "\n",
    "\n",
    "# Esegui il processo sui file CSV nella cartella specificata\n",
    "process_csv_files(csv_folder_path)\n",
    "\n",
    "\n",
    "\n",
    "# Chiudi il browser\n",
    "#driver.quit()"
   ]
  },
  {
   "cell_type": "code",
   "execution_count": null,
   "metadata": {},
   "outputs": [],
   "source": []
  }
 ],
 "metadata": {
  "kernelspec": {
   "display_name": "codeRag",
   "language": "python",
   "name": "python3"
  },
  "language_info": {
   "codemirror_mode": {
    "name": "ipython",
    "version": 3
   },
   "file_extension": ".py",
   "mimetype": "text/x-python",
   "name": "python",
   "nbconvert_exporter": "python",
   "pygments_lexer": "ipython3",
   "version": "3.10.12"
  }
 },
 "nbformat": 4,
 "nbformat_minor": 2
}
