{
 "cells": [
  {
   "cell_type": "code",
   "execution_count": 25,
   "metadata": {},
   "outputs": [],
   "source": [
    "from webdriver_manager.chrome import ChromeDriverManager\n",
    "from selenium import webdriver\n",
    "from selenium.webdriver.chrome.service import Service\n",
    "from selenium.webdriver.common.by import By #per cercare id html\n",
    "from selenium.webdriver.common.keys import Keys #per usare tastiera\n",
    "from selenium.webdriver.support.ui import WebDriverWait\n",
    "from selenium.webdriver.support import expected_conditions as EC\n",
    "from selenium.common.exceptions import TimeoutException\n",
    "import time\n",
    "\n",
    "import csv\n",
    "import os\n",
    "from dotenv import load_dotenv"
   ]
  },
  {
   "cell_type": "code",
   "execution_count": 26,
   "metadata": {},
   "outputs": [],
   "source": [
    "#Aggiunge valori al CSV\n",
    "def addToCSV(listToAppend, appName):\n",
    "    filename = 'data_safety.csv'\n",
    "    dataToAdd = [\n",
    "        {\"pkg_name\": appName, \"data_safety\": listToAppend}\n",
    "    ]\n",
    "\n",
    "    with open(filename, mode='a', newline='', encoding='utf-8') as file:\n",
    "        fieldnames = ['pkg_name', 'data_safety']\n",
    "        writer = csv.DictWriter(file, fieldnames=fieldnames)\n",
    "        writer.writerows(dataToAdd)"
   ]
  },
  {
   "cell_type": "code",
   "execution_count": 32,
   "metadata": {},
   "outputs": [],
   "source": [
    "#get gli id per data safety \n",
    "def getDataSafety(driver, appName):\n",
    "\n",
    "    #wait until non trova ID\n",
    "    WebDriverWait(driver,5).until(\n",
    "        EC.presence_of_element_located((By.CLASS_NAME, \"aFEzEb\"))\n",
    "    ) #aspetta 5 secondi prima di cercare searchInput\n",
    "    l = driver.find_elements(By.CLASS_NAME, \"aFEzEb\")\n",
    "\n",
    "    listElements = []\n",
    "    for x in l:\n",
    "        listElements.append(x.text)\n",
    "\n",
    "    addToCSV(listElements, appName)\n",
    "    #print(x.text)"
   ]
  },
  {
   "cell_type": "code",
   "execution_count": 28,
   "metadata": {},
   "outputs": [],
   "source": [
    "\n",
    "def lookForApp(appName):\n",
    "    load_dotenv()\n",
    "    \n",
    "    chromeDriverPath = os.getenv('webdriver_chrome_driver')\n",
    "    \n",
    "    #Connecting to play store\n",
    "    service = Service(executable_path=chromeDriverPath)\n",
    "    #service = Service(ChromeDriverManager().install())\n",
    "    driver = webdriver.Chrome(service=service)\n",
    "\n",
    "    options = webdriver.ChromeOptions()\n",
    "    options.add_argument(\"--no-sandbox\")\n",
    "    options.add_argument(\"--disable-dev-shm-usage\")\n",
    "    \n",
    "\n",
    "    driver.get(\"https://play.google.com/store/apps/datasafety?id=\" + appName)\n",
    "    getDataSafety(driver, appName)\n",
    "\n",
    "\n"
   ]
  },
  {
   "cell_type": "code",
   "execution_count": 33,
   "metadata": {},
   "outputs": [],
   "source": [
    "#Legge i dati nomi da pkg_name\n",
    "filename = 'data_safety.csv'\n",
    "\n",
    "\n",
    "reader = [\"com.facebook.katana\", \"com.whatsapp\"]\n",
    "\n",
    "#itera ogni riga e cerca\n",
    "for nameSearch in reader:\n",
    "    #print(nameSearch)\n",
    "    lookForApp(nameSearch)\n",
    "\n"
   ]
  },
  {
   "cell_type": "code",
   "execution_count": null,
   "metadata": {},
   "outputs": [],
   "source": []
  }
 ],
 "metadata": {
  "kernelspec": {
   "display_name": "codeRag",
   "language": "python",
   "name": "python3"
  },
  "language_info": {
   "codemirror_mode": {
    "name": "ipython",
    "version": 3
   },
   "file_extension": ".py",
   "mimetype": "text/x-python",
   "name": "python",
   "nbconvert_exporter": "python",
   "pygments_lexer": "ipython3",
   "version": "3.10.12"
  }
 },
 "nbformat": 4,
 "nbformat_minor": 2
}
